{
  "nbformat": 4,
  "nbformat_minor": 0,
  "metadata": {
    "colab": {
      "provenance": [],
      "authorship_tag": "ABX9TyOQBLyDSR0dGSFNb9a5sKdc",
      "include_colab_link": true
    },
    "kernelspec": {
      "name": "python3",
      "display_name": "Python 3"
    },
    "language_info": {
      "name": "python"
    }
  },
  "cells": [
    {
      "cell_type": "markdown",
      "metadata": {
        "id": "view-in-github",
        "colab_type": "text"
      },
      "source": [
        "<a href=\"https://colab.research.google.com/github/74obunga/SQL-Notebook-SpaceX-Rockets/blob/main/SQL_Notebook_SpaceX_Rockets.ipynb\" target=\"_parent\"><img src=\"https://colab.research.google.com/assets/colab-badge.svg\" alt=\"Open In Colab\"/></a>"
      ]
    },
    {
      "cell_type": "code",
      "execution_count": null,
      "metadata": {
        "colab": {
          "base_uri": "https://localhost:8080/"
        },
        "id": "CjEI33DWmGzs",
        "outputId": "0716e0db-6e41-47ab-bb4f-0d2708b90481"
      },
      "outputs": [
        {
          "output_type": "stream",
          "name": "stdout",
          "text": [
            "Collecting pandas==1.3.3\n",
            "  Downloading pandas-1.3.3-cp310-cp310-manylinux_2_17_x86_64.manylinux2014_x86_64.whl (11.5 MB)\n",
            "\u001b[2K     \u001b[90m━━━━━━━━━━━━━━━━━━━━━━━━━━━━━━━━━━━━━━━━\u001b[0m \u001b[32m11.5/11.5 MB\u001b[0m \u001b[31m21.6 MB/s\u001b[0m eta \u001b[36m0:00:00\u001b[0m\n",
            "\u001b[?25hRequirement already satisfied: sqlalchemy in /usr/local/lib/python3.10/dist-packages (2.0.31)\n",
            "\u001b[31mERROR: Could not find a version that satisfies the requirement sqlite3 (from versions: none)\u001b[0m\u001b[31m\n",
            "\u001b[0m\u001b[31mERROR: No matching distribution found for sqlite3\u001b[0m\u001b[31m\n",
            "\u001b[0m"
          ]
        }
      ],
      "source": [
        "!pip install pandas==1.3.3 sqlalchemy sqlite3\n"
      ]
    },
    {
      "cell_type": "code",
      "source": [
        "import pandas as pd\n",
        "from sqlalchemy import create_engine\n",
        "import sqlite3\n",
        "\n",
        "# Load the dataset\n",
        "df = pd.read_csv(\"https://cf-courses-data.s3.us.cloud-object-storage.appdomain.cloud/IBM-DS0321EN-SkillsNetwork/labs/module_2/data/Spacex.csv\")\n",
        "\n",
        "# Create an SQLite engine\n",
        "engine = create_engine('sqlite:///spacex.db')\n",
        "\n",
        "# Save the dataframe to a SQL table\n",
        "df.to_sql(\"SPACEXTBL\", engine, if_exists='replace', index=False, method=\"multi\")\n",
        "\n",
        "# Create an SQLite connection\n",
        "conn = sqlite3.connect('spacex.db')\n"
      ],
      "metadata": {
        "id": "W6nSKMLunDZi"
      },
      "execution_count": null,
      "outputs": []
    },
    {
      "cell_type": "code",
      "source": [
        "query1 = \"\"\"\n",
        "SELECT DISTINCT \"Launch_Site\"\n",
        "FROM SPACEXTBL\n",
        "\"\"\"\n",
        "\n",
        "unique_launch_sites = pd.read_sql_query(query1, conn)\n",
        "print(unique_launch_sites)\n"
      ],
      "metadata": {
        "colab": {
          "base_uri": "https://localhost:8080/"
        },
        "id": "g1oOREX2nHcY",
        "outputId": "a868081f-d2c4-4623-c566-e25ff7c6e0a8"
      },
      "execution_count": null,
      "outputs": [
        {
          "output_type": "stream",
          "name": "stdout",
          "text": [
            "    Launch_Site\n",
            "0   CCAFS LC-40\n",
            "1   VAFB SLC-4E\n",
            "2    KSC LC-39A\n",
            "3  CCAFS SLC-40\n"
          ]
        }
      ]
    },
    {
      "cell_type": "code",
      "source": [
        "query2 = \"\"\"\n",
        "SELECT *\n",
        "FROM SPACEXTBL\n",
        "WHERE \"Launch_Site\" LIKE 'CCA%'\n",
        "LIMIT 5\n",
        "\"\"\"\n",
        "records_cca = pd.read_sql_query(query2, conn)\n",
        "print(records_cca)\n"
      ],
      "metadata": {
        "colab": {
          "base_uri": "https://localhost:8080/"
        },
        "id": "hd52RSFxnUzj",
        "outputId": "9f8e1cba-2b70-4910-9e02-e86c7852e28b"
      },
      "execution_count": null,
      "outputs": [
        {
          "output_type": "stream",
          "name": "stdout",
          "text": [
            "         Date Time (UTC) Booster_Version  Launch_Site  \\\n",
            "0  2010-06-04   18:45:00  F9 v1.0  B0003  CCAFS LC-40   \n",
            "1  2010-12-08   15:43:00  F9 v1.0  B0004  CCAFS LC-40   \n",
            "2  2012-05-22    7:44:00  F9 v1.0  B0005  CCAFS LC-40   \n",
            "3  2012-10-08    0:35:00  F9 v1.0  B0006  CCAFS LC-40   \n",
            "4  2013-03-01   15:10:00  F9 v1.0  B0007  CCAFS LC-40   \n",
            "\n",
            "                                             Payload  PAYLOAD_MASS__KG_  \\\n",
            "0               Dragon Spacecraft Qualification Unit                  0   \n",
            "1  Dragon demo flight C1, two CubeSats, barrel of...                  0   \n",
            "2                              Dragon demo flight C2                525   \n",
            "3                                       SpaceX CRS-1                500   \n",
            "4                                       SpaceX CRS-2                677   \n",
            "\n",
            "       Orbit         Customer Mission_Outcome      Landing_Outcome  \n",
            "0        LEO           SpaceX         Success  Failure (parachute)  \n",
            "1  LEO (ISS)  NASA (COTS) NRO         Success  Failure (parachute)  \n",
            "2  LEO (ISS)      NASA (COTS)         Success           No attempt  \n",
            "3  LEO (ISS)       NASA (CRS)         Success           No attempt  \n",
            "4  LEO (ISS)       NASA (CRS)         Success           No attempt  \n"
          ]
        }
      ]
    },
    {
      "cell_type": "code",
      "source": [
        "query3 = \"\"\"\n",
        "SELECT SUM(\"Payload_Mass__kg_\")\n",
        "FROM SPACEXTBL\n",
        "WHERE \"Customer\" = 'NASA (CRS)'\n",
        "\"\"\"\n",
        "total_payload_mass = pd.read_sql_query(query3, conn)\n",
        "print(total_payload_mass)\n"
      ],
      "metadata": {
        "colab": {
          "base_uri": "https://localhost:8080/"
        },
        "id": "QkawFHoUnd4e",
        "outputId": "60363eb1-3d63-4cc5-c58f-ed98471dd549"
      },
      "execution_count": null,
      "outputs": [
        {
          "output_type": "stream",
          "name": "stdout",
          "text": [
            "   SUM(\"Payload_Mass__kg_\")\n",
            "0                     45596\n"
          ]
        }
      ]
    },
    {
      "cell_type": "code",
      "source": [
        "query4 = \"\"\"\n",
        "SELECT AVG(\"Payload_Mass__kg_\")\n",
        "FROM SPACEXTBL\n",
        "WHERE \"Booster_Version\" = 'F9 v1.1'\n",
        "\"\"\"\n",
        "average_payload_mass = pd.read_sql_query(query4, conn)\n",
        "print(average_payload_mass)\n"
      ],
      "metadata": {
        "colab": {
          "base_uri": "https://localhost:8080/"
        },
        "id": "FGbJXqkXqs9m",
        "outputId": "49a17f5c-4297-44d2-cec7-93e040447f4c"
      },
      "execution_count": null,
      "outputs": [
        {
          "output_type": "stream",
          "name": "stdout",
          "text": [
            "   AVG(\"Payload_Mass__kg_\")\n",
            "0                    2928.4\n"
          ]
        }
      ]
    },
    {
      "cell_type": "code",
      "source": [
        "query5 = \"\"\"\n",
        "SELECT MIN(Date)\n",
        "FROM SPACEXTBL\n",
        "WHERE \"Landing_Outcome\" = 'Success (ground pad)'\n",
        "\"\"\"\n",
        "first_successful_landing = pd.read_sql_query(query5, conn)\n",
        "print(first_successful_landing)\n"
      ],
      "metadata": {
        "colab": {
          "base_uri": "https://localhost:8080/"
        },
        "id": "gH7REt0Eq5Pb",
        "outputId": "91fea43e-8d79-4be9-952b-c78f0959ca07"
      },
      "execution_count": null,
      "outputs": [
        {
          "output_type": "stream",
          "name": "stdout",
          "text": [
            "    MIN(Date)\n",
            "0  2015-12-22\n"
          ]
        }
      ]
    },
    {
      "cell_type": "code",
      "source": [
        "query6 = \"\"\"\n",
        "SELECT \"Booster_Version\"\n",
        "FROM SPACEXTBL\n",
        "WHERE \"Landing_Outcome\" = 'Success (drone ship)'\n",
        "AND \"Payload_Mass__kg_\" > 4000 AND \"Payload_Mass__kg_\" < 6000\n",
        "\"\"\"\n",
        "boosters_success_drone_ship = pd.read_sql_query(query6, conn)\n",
        "print(boosters_success_drone_ship)\n"
      ],
      "metadata": {
        "colab": {
          "base_uri": "https://localhost:8080/"
        },
        "id": "eTuxP2ZIrFQ6",
        "outputId": "677df3d6-fba2-46dd-9fb4-20a18a07d282"
      },
      "execution_count": null,
      "outputs": [
        {
          "output_type": "stream",
          "name": "stdout",
          "text": [
            "  Booster_Version\n",
            "0     F9 FT B1022\n",
            "1     F9 FT B1026\n",
            "2  F9 FT  B1021.2\n",
            "3  F9 FT  B1031.2\n"
          ]
        }
      ]
    },
    {
      "cell_type": "code",
      "source": [
        "query7 = \"\"\"\n",
        "SELECT \"Landing_Outcome\", COUNT(*)\n",
        "FROM SPACEXTBL\n",
        "GROUP BY \"Landing_Outcome\"\n",
        "\"\"\"\n",
        "mission_outcomes = pd.read_sql_query(query7, conn)\n",
        "print(mission_outcomes)\n"
      ],
      "metadata": {
        "colab": {
          "base_uri": "https://localhost:8080/"
        },
        "id": "R4EvQqoCrNRk",
        "outputId": "b60e89d6-fef0-4c90-d0e4-c9dd78a91bef"
      },
      "execution_count": null,
      "outputs": [
        {
          "output_type": "stream",
          "name": "stdout",
          "text": [
            "           Landing_Outcome  COUNT(*)\n",
            "0       Controlled (ocean)         5\n",
            "1                  Failure         3\n",
            "2     Failure (drone ship)         5\n",
            "3      Failure (parachute)         2\n",
            "4               No attempt        21\n",
            "5              No attempt          1\n",
            "6   Precluded (drone ship)         1\n",
            "7                  Success        38\n",
            "8     Success (drone ship)        14\n",
            "9     Success (ground pad)         9\n",
            "10    Uncontrolled (ocean)         2\n"
          ]
        }
      ]
    },
    {
      "cell_type": "code",
      "source": [
        "query8 = \"\"\"\n",
        "SELECT \"Booster_Version\"\n",
        "FROM SPACEXTBL\n",
        "WHERE \"Payload_Mass__kg_\" = (\n",
        "    SELECT MAX(\"Payload_Mass__kg_\")\n",
        "    FROM SPACEXTBL\n",
        ")\n",
        "\"\"\"\n",
        "boosters_max_payload = pd.read_sql_query(query8, conn)\n",
        "print(boosters_max_payload)\n"
      ],
      "metadata": {
        "colab": {
          "base_uri": "https://localhost:8080/"
        },
        "id": "nDC4doktrYNA",
        "outputId": "22f0626e-dbf6-44f2-b989-795d13ed3858"
      },
      "execution_count": null,
      "outputs": [
        {
          "output_type": "stream",
          "name": "stdout",
          "text": [
            "   Booster_Version\n",
            "0    F9 B5 B1048.4\n",
            "1    F9 B5 B1049.4\n",
            "2    F9 B5 B1051.3\n",
            "3    F9 B5 B1056.4\n",
            "4    F9 B5 B1048.5\n",
            "5    F9 B5 B1051.4\n",
            "6    F9 B5 B1049.5\n",
            "7   F9 B5 B1060.2 \n",
            "8   F9 B5 B1058.3 \n",
            "9    F9 B5 B1051.6\n",
            "10   F9 B5 B1060.3\n",
            "11  F9 B5 B1049.7 \n"
          ]
        }
      ]
    },
    {
      "cell_type": "code",
      "source": [
        "query9 = \"\"\"\n",
        "SELECT SUBSTR(Date, 6, 2) AS month, \"Landing_Outcome\", \"Booster_Version\", \"Launch_Site\"\n",
        "FROM SPACEXTBL\n",
        "WHERE \"Landing_Outcome\" LIKE 'Failure (drone ship)'\n",
        "AND SUBSTR(Date, 1, 4) = '2015'\n",
        "\"\"\"\n",
        "failure_2015 = pd.read_sql_query(query9, conn)\n",
        "print(failure_2015)\n"
      ],
      "metadata": {
        "colab": {
          "base_uri": "https://localhost:8080/"
        },
        "id": "iakMkYbyrfij",
        "outputId": "078f51f1-7cfd-4d8e-c900-54a0b85ad1b7"
      },
      "execution_count": null,
      "outputs": [
        {
          "output_type": "stream",
          "name": "stdout",
          "text": [
            "  month       Landing_Outcome Booster_Version  Launch_Site\n",
            "0    01  Failure (drone ship)   F9 v1.1 B1012  CCAFS LC-40\n",
            "1    04  Failure (drone ship)   F9 v1.1 B1015  CCAFS LC-40\n"
          ]
        }
      ]
    },
    {
      "cell_type": "code",
      "source": [
        "query10 = \"\"\"\n",
        "SELECT \"Landing_Outcome\", COUNT(*) as outcome_count\n",
        "FROM SPACEXTBL\n",
        "WHERE Date BETWEEN '2010-06-04' AND '2017-03-20'\n",
        "GROUP BY \"Landing_Outcome\"\n",
        "ORDER BY outcome_count DESC\n",
        "\"\"\"\n",
        "ranked_outcomes = pd.read_sql_query(query10, conn)\n",
        "print(ranked_outcomes)\n"
      ],
      "metadata": {
        "colab": {
          "base_uri": "https://localhost:8080/"
        },
        "id": "y3Klj5LSrs-S",
        "outputId": "7c60807d-f839-4ba5-f8b2-057ae27d330c"
      },
      "execution_count": null,
      "outputs": [
        {
          "output_type": "stream",
          "name": "stdout",
          "text": [
            "          Landing_Outcome  outcome_count\n",
            "0              No attempt             10\n",
            "1    Success (drone ship)              5\n",
            "2    Failure (drone ship)              5\n",
            "3    Success (ground pad)              3\n",
            "4      Controlled (ocean)              3\n",
            "5    Uncontrolled (ocean)              2\n",
            "6     Failure (parachute)              2\n",
            "7  Precluded (drone ship)              1\n"
          ]
        }
      ]
    }
  ]
}